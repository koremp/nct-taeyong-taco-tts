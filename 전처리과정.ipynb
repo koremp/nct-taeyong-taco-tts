{
 "cells": [
  {
   "cell_type": "markdown",
   "metadata": {},
   "source": [
    "# .wav 파일의 총 시간 알려주는 코드"
   ]
  },
  {
   "cell_type": "code",
   "execution_count": null,
   "metadata": {},
   "outputs": [],
   "source": [
    "import numpy as np\n",
    "import scipy.io as sio\n",
    "import scipy.io.wavfile\n",
    "import matplotlib.pyplot as plt\n",
    "\n",
    "def how_long(Data) :\n",
    "    sec = []\n",
    "    for i in range(len(Data)) :\n",
    "        path = Data[0][i]\n",
    "        samplerate, data = sio.wavfile.read(path)\n",
    "        times = np.arange(len(data))/float(samplerate)\n",
    "        sec.append(times[-1])\n",
    "    return sum(sec) # 초로 return"
   ]
  },
  {
   "cell_type": "code",
   "execution_count": null,
   "metadata": {},
   "outputs": [],
   "source": [
    "import pandas as pd\n",
    "data = pd.read_csv(\"c:/data/deep_voice/label.csv\",encoding='CP949',header=None)\n",
    "\n",
    "for i in range(len(data[[0]])) :\n",
    "    data[0][i] = 'c:/data/deep_voice/set1/' + data[0][i] # .wav 파일이 있는 폴더\n",
    "\n",
    "how_long(data)/60 # 분으로 바꿔줌"
   ]
  },
  {
   "cell_type": "markdown",
   "metadata": {},
   "source": [
    "# csv -> json"
   ]
  },
  {
   "cell_type": "code",
   "execution_count": null,
   "metadata": {},
   "outputs": [],
   "source": [
    "# 0. csv 파일 전부 합치기\n",
    "data1 = pd.read_csv(\"c:/data/deep_voice/홍길동.csv\",encoding='CP949',header=None)\n",
    "data2 = pd.read_csv(\"c:/data/deep_voice/임꺽정.csv\",encoding='CP949',header=None)\n",
    "data3 = pd.read_csv(\"c:/data/deep_voice/장길산.csv\",encoding='CP949',header=None)\n",
    "\n",
    "result = pd.concat([data2,data3,data1])\n",
    "result.to_csv(\"c:/data/deep_voice/result.csv\",header=True,index=False)\n",
    "result"
   ]
  },
  {
   "cell_type": "code",
   "execution_count": null,
   "metadata": {},
   "outputs": [],
   "source": [
    "# 1. csv 파일 전처리\n",
    "import pandas as pd\n",
    "\n",
    "result = pd.read_csv(\"c:/data/deep_voice/음성데이터확장자없는라벨.csv\",header=None)\n",
    "result.dropna(axis=0,inplace=True) # NaN 데이터 행 삭제\n",
    "\n",
    "result[[0]] = result[[0]].astype(str) # 숫자 데이터 문자열로 변환\n",
    "result[[0]] = result[[0]].apply(lambda x:x+'.wav',axis=1) # .wav 붙여주기\n",
    "result.to_csv(\"c:/data/deep_voice/주희2.csv\",header=False,index=False) # 저장"
   ]
  },
  {
   "cell_type": "code",
   "execution_count": null,
   "metadata": {},
   "outputs": [],
   "source": [
    "# csv -> json 만들기 위한 전단계 (dictionary 형태인 json에 맞춰주는 작업)\n",
    "result\n",
    "new = pd.DataFrame(data=result.to_numpy().T)\n",
    "new.columns = new.iloc[0,:]\n",
    "new.drop(new.index[0]).to_csv(\"c:/data/deep_voice/new.csv\",header=True,index=False)"
   ]
  },
  {
   "cell_type": "code",
   "execution_count": null,
   "metadata": {},
   "outputs": [],
   "source": [
    "# 2. csv -> json\n",
    "import csv\n",
    "import json\n",
    "\n",
    "input_file_name = 'c:/data/deep_voice/new.csv'\n",
    "output_file_name = 'c:/data/deep_voice/new.txt'\n",
    "\n",
    "with open(input_file_name, \"r\", encoding=\"utf-8\", newline=\"\") as input_file, \\\n",
    "        open(output_file_name, \"w\", encoding=\"utf-8\", newline=\"\") as output_file:\n",
    "        \n",
    "    reader = csv.reader(input_file)\n",
    "    # 첫 줄은 col_names 리스트로 읽어 놓고\n",
    "    col_names = next(reader)\n",
    "    # 그 다음 줄부터 zip으로 묶어서 json으로 dumps\n",
    "    for cols in reader:\n",
    "        doc = {col_name: col for col_name, col in zip(col_names, cols)}\n",
    "        print(json.dumps(doc, ensure_ascii=False), file=output_file)"
   ]
  },
  {
   "cell_type": "markdown",
   "metadata": {},
   "source": [
    "# 무음 기준으로 잘라주는 코드"
   ]
  },
  {
   "cell_type": "code",
   "execution_count": null,
   "metadata": {},
   "outputs": [],
   "source": [
    "'''\n",
    "* 참고 사이트 *\n",
    "https://www.thetopsites.net/article/54596077.shtml\n",
    "https://stackoverflow.com/questions/23730796/using-pydub-to-chop-up-a-long-audio-file\n",
    "'''\n",
    "\n",
    "# Import the AudioSegment class for processing audio and the \n",
    "# split_on_silence function for separating out silent chunks.\n",
    "from pydub import AudioSegment\n",
    "from pydub.silence import split_on_silence\n",
    "\n",
    "# Define a function to normalize a chunk to a target amplitude.\n",
    "def match_target_amplitude(aChunk, target_dBFS):\n",
    "    ''' Normalize given audio chunk '''\n",
    "    change_in_dBFS = target_dBFS - aChunk.dBFS\n",
    "    return aChunk.apply_gain(change_in_dBFS)\n",
    "\n",
    "# Load your audio.\n",
    "song = AudioSegment.from_wav(\"C:/DATA/deep_voice/음성데이터.wav\")\n",
    "\n",
    "# Split track where the silence is 2 seconds or more and get chunks using \n",
    "# the imported function.\n",
    "chunks = split_on_silence (\n",
    "    # Use the loaded audio.\n",
    "    song, \n",
    "    # Specify that a silent chunk must be at least 2 seconds or 2000 ms long.\n",
    "    min_silence_len = 400,\n",
    "    # Consider a chunk silent if it's quieter than -16 dBFS.\n",
    "    # (You may want to adjust this parameter.)\n",
    "    silence_thresh = -40\n",
    ")\n",
    "\n",
    "# Process each chunk with your parameters\n",
    "for i, chunk in enumerate(chunks):\n",
    "    # Create a silence chunk that's 0.5 seconds (or 500 ms) long for padding.\n",
    "    silence_chunk = AudioSegment.silent(duration=100)\n",
    "    # Add the padding chunk to beginning and end of the entire chunk.\n",
    "    audio_chunk = silence_chunk + chunk + silence_chunk\n",
    "    # Normalize the entire chunk.\n",
    "    normalized_chunk = match_target_amplitude(audio_chunk, -20.0)\n",
    "    # Export the audio chunk with new bitrate.\n",
    "    chunk.export(\"C:/DATA/deep_voice/음성데이터/{0}.wav\".format(i), format=\"wav\")"
   ]
  }
 ],
 "metadata": {
  "hide_input": false,
  "kernelspec": {
   "display_name": "Python 3.10.3 64-bit ('3.10.3')",
   "language": "python",
   "name": "python3"
  },
  "language_info": {
   "codemirror_mode": {
    "name": "ipython",
    "version": 3
   },
   "file_extension": ".py",
   "mimetype": "text/x-python",
   "name": "python",
   "nbconvert_exporter": "python",
   "pygments_lexer": "ipython3",
   "version": "3.10.3"
  },
  "varInspector": {
   "cols": {
    "lenName": 16,
    "lenType": 16,
    "lenVar": 40
   },
   "kernels_config": {
    "python": {
     "delete_cmd_postfix": "",
     "delete_cmd_prefix": "del ",
     "library": "var_list.py",
     "varRefreshCmd": "print(var_dic_list())"
    },
    "r": {
     "delete_cmd_postfix": ") ",
     "delete_cmd_prefix": "rm(",
     "library": "var_list.r",
     "varRefreshCmd": "cat(var_dic_list()) "
    }
   },
   "types_to_exclude": [
    "module",
    "function",
    "builtin_function_or_method",
    "instance",
    "_Feature"
   ],
   "window_display": false
  },
  "vscode": {
   "interpreter": {
    "hash": "80f5dac19612ffe2e553bc5801f85e94c408a955b10dd2b08136f91e57f3b3be"
   }
  }
 },
 "nbformat": 4,
 "nbformat_minor": 4
}
